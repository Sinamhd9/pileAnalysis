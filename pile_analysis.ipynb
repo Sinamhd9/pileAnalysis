{
 "cells": [
  {
   "cell_type": "code",
   "execution_count": 48,
   "metadata": {
    "extensions": {
     "jupyter_dashboards": {
      "activeView": "grid_default",
      "views": {
       "grid_default": {
        "col": null,
        "height": 2,
        "hidden": true,
        "row": null,
        "width": 2
       }
      }
     }
    },
    "id": "7XehY01VJZSQ"
   },
   "outputs": [],
   "source": [
    "%matplotlib widget\n",
    "import numpy as np\n",
    "import matplotlib.pyplot as plt\n",
    "from ipywidgets import FloatSlider,BoundedFloatText, BoundedIntText, IntSlider, Layout, VBox, HBox, Output, Label\n",
    "from IPython.display import clear_output"
   ]
  },
  {
   "cell_type": "markdown",
   "metadata": {},
   "source": [
    "- **In this app, we can plot the horizontal deformation, shear force and bending moment for specific pile properties.**\n",
    "- **Use the Slider and Text widgets to change the parameters.**\n",
    "- **Find the code here [link](https://github.com/Sinamhd9/pileAnalysis).**"
   ]
  },
  {
   "cell_type": "code",
   "execution_count": 49,
   "metadata": {
    "extensions": {
     "jupyter_dashboards": {
      "activeView": "grid_default",
      "views": {
       "grid_default": {
        "col": null,
        "height": 2,
        "hidden": true,
        "row": null,
        "width": 2
       }
      }
     }
    },
    "id": "khOQgq83KQAW"
   },
   "outputs": [],
   "source": [
    "def stiff_rel_fun(E, I, L):\n",
    "    k = np.array([[12*E*I/L**3, 6*E*I/L**2, -12*E*I/L**3, 6*E*I/L**2],\n",
    "    [6*E*I/L**2, 4*E*I/L, -6*E*I/L**2, 2*E*I/L],\n",
    "    [-12*E*I/L**3, -6*E*I/L**2, 12*E*I/L**3, -6*E*I/L**2],\n",
    "    [6*E*I/L**2, 2*E*I/L, -6*E*I/L**2, 4*E*I/L]], dtype=np.float64)\n",
    "    return k"
   ]
  },
  {
   "cell_type": "code",
   "execution_count": 52,
   "metadata": {
    "extensions": {
     "jupyter_dashboards": {
      "activeView": "grid_default",
      "views": {
       "grid_default": {
        "col": null,
        "height": 2,
        "hidden": true,
        "row": null,
        "width": 2
       }
      }
     }
    }
   },
   "outputs": [
    {
     "data": {
      "application/vnd.jupyter.widget-view+json": {
       "model_id": "a20f41d62c164e7c9dc208a7ba895acc",
       "version_major": 2,
       "version_minor": 0
      },
      "text/plain": [
       "Canvas(toolbar=Toolbar(toolitems=[('Home', 'Reset original view', 'home', 'home'), ('Back', 'Back to previous …"
      ]
     },
     "metadata": {},
     "output_type": "display_data"
    }
   ],
   "source": [
    "fig, axes = plt.subplots(nrows=1, ncols=3, figsize=(10,5), sharey=True)"
   ]
  },
  {
   "cell_type": "code",
   "execution_count": 54,
   "metadata": {
    "colab": {
     "base_uri": "https://localhost:8080/",
     "height": 320,
     "referenced_widgets": [
      "3e4283503dbb4469ac46bdab35c91ae5",
      "24e4f2f85aa14c3e82a78db6695305f3",
      "f20086f6773f46f892a3780456b47de7",
      "8c28e66404c44865be98206749058e17",
      "571dbc8e974e451080756f9e2ca33e11",
      "5483259d3a39482a8b53df6847b044a2",
      "b517ae35b4ce4b26a57441895ba1c8f9",
      "7f910fc40bef474092b6ff353b1f1c55",
      "90e2fe3274e04225ba1a6c15ea7cd54d",
      "773e019b69a64b1da758d579add42953",
      "577081b99ad64694add9facc6c48f02d",
      "9aa3347ad9ab45a6b04ad19bfd219be3",
      "58e070b021fd457cb1a769b4dab1dc07",
      "d00c71c54edc4a81b3328bbe6b06c164",
      "0284f4d98c0842d4b87f4f478132a19a",
      "63febefc803c43fc9b6c7f95773c8611",
      "d0fab894acfe4de9b334af341295e66e",
      "229ccc8038124521a009e09d93b11df8",
      "e08c38a26dcb4269b36df83fa136af00",
      "369f1b73443049f1a74aed88ca74fd54",
      "4571465491ae4076b94534c7d430967d",
      "600ab0af280b4a1a84c9d0ad714165d1",
      "1bc68b845e0645eb80738862bc458619",
      "81e62eb4ffa0405fb6983628ebbdd427"
     ]
    },
    "extensions": {
     "jupyter_dashboards": {
      "activeView": "grid_default",
      "views": {
       "grid_default": {
        "col": null,
        "height": 2,
        "hidden": true,
        "row": null,
        "width": 2
       }
      }
     }
    },
    "id": "OtlXDKJHJfAg",
    "outputId": "caf14a90-5da1-4954-9c60-cce4f37237b5"
   },
   "outputs": [
    {
     "data": {
      "application/vnd.jupyter.widget-view+json": {
       "model_id": "32f9a77594084db4b34ee25cf1f64e40",
       "version_major": 2,
       "version_minor": 0
      },
      "text/plain": [
       "HBox(children=(VBox(children=(FloatSlider(value=0.6, description='Pile diameter ($m$):', layout=Layout(width='…"
      ]
     },
     "metadata": {},
     "output_type": "display_data"
    }
   ],
   "source": [
    "style = {'description_width': 'initial', 'handle_color': 'lightgreen'}\n",
    "d_slider = FloatSlider(\n",
    "    value=0.6,\n",
    "    min=0.1,\n",
    "    max=2.0,\n",
    "    step=0.1,\n",
    "    description='Pile diameter ($m$):',style=style,layout=Layout(width='500px')\n",
    ")\n",
    "facw_slider = FloatSlider(\n",
    "    value=0.8,\n",
    "    min=0.0,\n",
    "    max=1.0,\n",
    "    step=0.1,\n",
    "    description='Fraction of section width in spring stiffness:',style=style,\n",
    "    layout=Layout(width='500px')\n",
    ")\n",
    "\n",
    "L_slider = FloatSlider(\n",
    "    value=31.5,\n",
    "    min=0.5,\n",
    "    max=50.0,\n",
    "    step=0.1,\n",
    "    description='Pile length ($m$):',style=style,\n",
    "    layout=Layout(width='500px')\n",
    ")\n",
    "N_slider = IntSlider(\n",
    "    value=100,\n",
    "    min=10,\n",
    "    max=300,\n",
    "    step=10,\n",
    "    description='Number of elements',\n",
    "    style=style,\n",
    "    layout=Layout(width='500px')\n",
    ")\n",
    "\n",
    "k_slider = IntSlider(\n",
    "    value=5800,\n",
    "    min=1000,\n",
    "    max=10000,\n",
    "    step=100,\n",
    "    description='Soil stiffness ($kN/m^2$)',\n",
    "    style=style,\n",
    "    layout=Layout(width='500px')\n",
    ")\n",
    "\n",
    "\n",
    "E_btb = BoundedIntText(\n",
    " value=2e8,\n",
    " min=1e7,\n",
    " max=1e10,\n",
    "    step=1e6,\n",
    " description='Modulus of elasticity ($kN/m^2$):',\n",
    "    style=style,\n",
    "    layout=Layout(width='300px')\n",
    " )\n",
    "\n",
    "I_btb = BoundedFloatText(\n",
    " value=0.00187,\n",
    " min=0.00001,\n",
    " max=0.1,\n",
    "step=0.001,\n",
    " description='Second moment of inertia ($m^4$):',\n",
    "    style=style,\n",
    "    layout=Layout(width='300px')\n",
    " )\n",
    "\n",
    "\n",
    "H_btb = BoundedIntText(\n",
    " value=200,\n",
    " min=1,\n",
    " max=1000,\n",
    " description='Lateral load at pile top ($kN$)',\n",
    "    style=style,\n",
    "    layout=Layout(width='300px')\n",
    " )\n",
    "\n",
    "\n",
    "Ktheta_btb = BoundedIntText(\n",
    " value=1e8,\n",
    " min=0,\n",
    " max=1e12,\n",
    "step=1e6,\n",
    " description='Rotational spring ($kNm/rad$)',\n",
    "    style=style,\n",
    "    layout=Layout(width='300px')\n",
    " )\n",
    "\n",
    "\n",
    "ui = VBox([d_slider, facw_slider, L_slider, N_slider,  k_slider])\n",
    "ui2 = VBox([E_btb, I_btb, H_btb, Ktheta_btb])\n",
    "uis = HBox([ui, ui2])\n",
    "display(uis)"
   ]
  },
  {
   "cell_type": "code",
   "execution_count": 55,
   "metadata": {
    "extensions": {
     "jupyter_dashboards": {
      "activeView": "grid_default",
      "views": {
       "grid_default": {
        "col": null,
        "height": 2,
        "hidden": true,
        "row": null,
        "width": 2
       }
      }
     }
    }
   },
   "outputs": [],
   "source": [
    "\n",
    "def run_calcs():\n",
    "    d =  d_slider.value  \n",
    "    facw = facw_slider.value\n",
    "    L = L_slider.value\n",
    "    E = E_btb.value                       \n",
    "    I = I_btb.value\n",
    "    N = N_slider.value\n",
    "    H = H_btb.value\n",
    "    k = k_slider.value\n",
    "    Ktheta = Ktheta_btb.value \n",
    "    delta_x = L/N                               # Length of one element (in)\n",
    "    K = stiff_rel_fun(E, I, delta_x)\n",
    "    x = np.arange(0,L+0.01,delta_x, dtype=np.float64)                   # x-vector (in)\n",
    "    u_y = np.zeros((len(x)), dtype=np.float64)\n",
    "    F_u = np.zeros((2*(N+1), 1), dtype=np.float64)\n",
    "    F_u[0] = H\n",
    "    k_S = np.zeros((2*(N+1)), dtype=np.float64)\n",
    "    k_S[0] = k*delta_x*facw*d/2\n",
    "    k_S[2:-3:2] = k*delta_x*facw*d\n",
    "    k_S[-2] = k*delta_x*facw*d/2\n",
    "    k_S[1] = Ktheta\n",
    "\n",
    "    # Create stiffness matrix\n",
    "    K_uu = np.zeros((2*(N+1), 2*(N+1)), dtype=np.float64)\n",
    "    K_uu[:2, :2] = K[:2, :2]\n",
    "    K_uu[:2, 2:4] = K[:2, 2:]\n",
    "    K_uu[0, 0] += k_S[0]\n",
    "    K_uu[1, 1] += k_S[1]\n",
    "    \n",
    "    for j in range(2,2*N,2):\n",
    "        K_uu[j:j+2, j-2:j] = K[2:, :2]\n",
    "        K_uu[j:j+2, j:j+2] = K[2:, 2:]+K[:2, :2]\n",
    "        K_uu[j, j] += k_S[j]\n",
    "        K_uu[j+1, j+1] += k_S[j+1]\n",
    "        K_uu[j:j+2, j+2:j+4] = K[:2, 2:]\n",
    "    \n",
    "    K_uu[-2:, -4:-2] = K[2:, :2]\n",
    "    K_uu[-2:, -2:] = K[2:, 2:]\n",
    "    K_uu[-2, -2] += k_S[-2]\n",
    "    K_uu[-1, -1] += k_S[-1]\n",
    "    delta_u = np.linalg.solve(K_uu, F_u)\n",
    "    Q = np.zeros((4, N), dtype=np.float64)\n",
    "    M = np.zeros_like(x, dtype=np.float64)\n",
    "    V = np.zeros_like(x, dtype=np.float64)\n",
    "    j = 0\n",
    "    for i in range(N):\n",
    "        Q[:, i] = (K@(np.array([delta_u[j],-delta_u[j+1],-delta_u[j+2],delta_u[j+3]], dtype=np.float64))).reshape(4,)\n",
    "        j = j+2\n",
    "    V[:-1] = Q[0,:]\n",
    "    M[:-1] = Q[1,:]\n",
    "    V[-1] = Q[2,-1]\n",
    "    M[-1] = Q[3,-1]\n",
    "    u_y = delta_u[::2] * 1000\n",
    "    return u_y, V, M, x, L\n",
    "\n",
    "def visualize(u_y, V, M, x, L):\n",
    "    axes[0].cla()\n",
    "    axes[1].cla()\n",
    "    axes[2].cla()\n",
    "    axes[0].plot(u_y-0.15*max(abs(u_y)), x, 'k', linestyle='-.')\n",
    "    axes[0].plot(u_y, x,'k', linestyle='-.')\n",
    "    axes[0].plot(u_y+0.15*max(abs(u_y)), x, 'k', linestyle='-.')\n",
    "    axes[0].plot([u_y[0]-0.15*max(abs(u_y)), u_y[0]+0.15*max(abs(u_y))], [x[0], x[0]], 'k', linestyle='-.')\n",
    "    axes[0].plot([u_y[-1]-0.15*max(abs(u_y)), u_y[-1]+0.15*max(abs(u_y))], [x[-1], x[-1]], 'k', linestyle='-.')\n",
    "    axes[0].axis([1.01*min(u_y-0.25*max(abs(u_y)))-2,1.01*max(u_y+0.25*max(abs(u_y)))+2,0, L+1])\n",
    "    axes[0].invert_yaxis()\n",
    "    axes[1].plot(np.zeros((len(x))), x, 'k',linestyle='-.')\n",
    "    axes[1].fill_between(V, x, color='b')  \n",
    "    axes[1].axis([1.01*min(V)-5, 1.01*max(V)+5, 0, L+1])\n",
    "    axes[1].invert_yaxis()\n",
    "    axes[2].plot(np.zeros((len(x))), x, 'k', linestyle='-.')\n",
    "    axes[2].fill_between(M, x, color='r')\n",
    "    axes[2].axis([1.01*min(M)-5, 1.01*max(M)+5, 0, L+1])\n",
    "    axes[2].invert_yaxis()\n",
    "    axes[0].set_xlabel('Horizontal deformation, u_x (mm)')\n",
    "    axes[0].set_ylabel('Depth, h (m)')\n",
    "    axes[1].set_xlabel('Shear force, V (kN)')\n",
    "    axes[1].set_ylabel('Depth, h (m)')\n",
    "    axes[2].set_ylabel('Depth, h (m)')\n",
    "    axes[2].set_xlabel('Bending moment, M (kNm)')"
   ]
  },
  {
   "cell_type": "code",
   "execution_count": 56,
   "metadata": {
    "extensions": {
     "jupyter_dashboards": {
      "activeView": "grid_default",
      "views": {
       "grid_default": {
        "col": null,
        "height": 2,
        "hidden": true,
        "row": null,
        "width": 2
       }
      }
     }
    }
   },
   "outputs": [
    {
     "data": {
      "application/vnd.jupyter.widget-view+json": {
       "model_id": "70dc376366ba4668815cd81df10ea49f",
       "version_major": 2,
       "version_minor": 0
      },
      "text/plain": [
       "Output()"
      ]
     },
     "metadata": {},
     "output_type": "display_data"
    }
   ],
   "source": [
    "out=Output()\n",
    "def on_value_change(change):\n",
    "    u_y, V, M, x, L = run_calcs()\n",
    "    with out:\n",
    "        clear_output()\n",
    "        visualize(u_y, V, M, x, L)\n",
    "\n",
    "        \n",
    "for i in uis.children:\n",
    "    for j in i.children:\n",
    "        j.observe(on_value_change, 'value')\n",
    "out"
   ]
  },
  {
   "cell_type": "code",
   "execution_count": null,
   "metadata": {},
   "outputs": [],
   "source": []
  }
 ],
 "metadata": {
  "colab": {
   "name": "FE_formulation_simple_span_loading_visualization.ipynb",
   "provenance": []
  },
  "extensions": {
   "jupyter_dashboards": {
    "activeView": "grid_default",
    "version": 1,
    "views": {
     "grid_default": {
      "cellMargin": 10,
      "defaultCellHeight": 60,
      "maxColumns": 12,
      "name": "grid",
      "type": "grid"
     }
    }
   }
  },
  "kernelspec": {
   "display_name": "Python 3",
   "language": "python",
   "name": "python3"
  },
  "language_info": {
   "codemirror_mode": {
    "name": "ipython",
    "version": 3
   },
   "file_extension": ".py",
   "mimetype": "text/x-python",
   "name": "python",
   "nbconvert_exporter": "python",
   "pygments_lexer": "ipython3",
   "version": "3.9.1"
  },
  "widgets": {
   "application/vnd.jupyter.widget-state+json": {
    "0284f4d98c0842d4b87f4f478132a19a": {
     "model_module": "@jupyter-widgets/base",
     "model_name": "LayoutModel",
     "state": {
      "_model_module": "@jupyter-widgets/base",
      "_model_module_version": "1.2.0",
      "_model_name": "LayoutModel",
      "_view_count": null,
      "_view_module": "@jupyter-widgets/base",
      "_view_module_version": "1.2.0",
      "_view_name": "LayoutView",
      "align_content": null,
      "align_items": null,
      "align_self": null,
      "border": null,
      "bottom": null,
      "display": null,
      "flex": null,
      "flex_flow": null,
      "grid_area": null,
      "grid_auto_columns": null,
      "grid_auto_flow": null,
      "grid_auto_rows": null,
      "grid_column": null,
      "grid_gap": null,
      "grid_row": null,
      "grid_template_areas": null,
      "grid_template_columns": null,
      "grid_template_rows": null,
      "height": null,
      "justify_content": null,
      "justify_items": null,
      "left": null,
      "margin": null,
      "max_height": null,
      "max_width": null,
      "min_height": null,
      "min_width": null,
      "object_fit": null,
      "object_position": null,
      "order": null,
      "overflow": null,
      "overflow_x": null,
      "overflow_y": null,
      "padding": null,
      "right": null,
      "top": null,
      "visibility": null,
      "width": null
     }
    },
    "1bc68b845e0645eb80738862bc458619": {
     "model_module": "@jupyter-widgets/controls",
     "model_name": "DescriptionStyleModel",
     "state": {
      "_model_module": "@jupyter-widgets/controls",
      "_model_module_version": "1.5.0",
      "_model_name": "DescriptionStyleModel",
      "_view_count": null,
      "_view_module": "@jupyter-widgets/base",
      "_view_module_version": "1.2.0",
      "_view_name": "StyleView",
      "description_width": ""
     }
    },
    "229ccc8038124521a009e09d93b11df8": {
     "model_module": "@jupyter-widgets/base",
     "model_name": "LayoutModel",
     "state": {
      "_model_module": "@jupyter-widgets/base",
      "_model_module_version": "1.2.0",
      "_model_name": "LayoutModel",
      "_view_count": null,
      "_view_module": "@jupyter-widgets/base",
      "_view_module_version": "1.2.0",
      "_view_name": "LayoutView",
      "align_content": null,
      "align_items": null,
      "align_self": null,
      "border": null,
      "bottom": null,
      "display": null,
      "flex": null,
      "flex_flow": null,
      "grid_area": null,
      "grid_auto_columns": null,
      "grid_auto_flow": null,
      "grid_auto_rows": null,
      "grid_column": null,
      "grid_gap": null,
      "grid_row": null,
      "grid_template_areas": null,
      "grid_template_columns": null,
      "grid_template_rows": null,
      "height": null,
      "justify_content": null,
      "justify_items": null,
      "left": null,
      "margin": null,
      "max_height": null,
      "max_width": null,
      "min_height": null,
      "min_width": null,
      "object_fit": null,
      "object_position": null,
      "order": null,
      "overflow": null,
      "overflow_x": null,
      "overflow_y": null,
      "padding": null,
      "right": null,
      "top": null,
      "visibility": null,
      "width": null
     }
    },
    "24e4f2f85aa14c3e82a78db6695305f3": {
     "model_module": "@jupyter-widgets/controls",
     "model_name": "SliderStyleModel",
     "state": {
      "_model_module": "@jupyter-widgets/controls",
      "_model_module_version": "1.5.0",
      "_model_name": "SliderStyleModel",
      "_view_count": null,
      "_view_module": "@jupyter-widgets/base",
      "_view_module_version": "1.2.0",
      "_view_name": "StyleView",
      "description_width": "",
      "handle_color": null
     }
    },
    "369f1b73443049f1a74aed88ca74fd54": {
     "model_module": "@jupyter-widgets/controls",
     "model_name": "DescriptionStyleModel",
     "state": {
      "_model_module": "@jupyter-widgets/controls",
      "_model_module_version": "1.5.0",
      "_model_name": "DescriptionStyleModel",
      "_view_count": null,
      "_view_module": "@jupyter-widgets/base",
      "_view_module_version": "1.2.0",
      "_view_name": "StyleView",
      "description_width": ""
     }
    },
    "3e4283503dbb4469ac46bdab35c91ae5": {
     "model_module": "@jupyter-widgets/controls",
     "model_name": "IntSliderModel",
     "state": {
      "_dom_classes": [],
      "_model_module": "@jupyter-widgets/controls",
      "_model_module_version": "1.5.0",
      "_model_name": "IntSliderModel",
      "_view_count": null,
      "_view_module": "@jupyter-widgets/controls",
      "_view_module_version": "1.5.0",
      "_view_name": "IntSliderView",
      "continuous_update": true,
      "description": "Length (in):",
      "description_tooltip": null,
      "disabled": false,
      "layout": "IPY_MODEL_f20086f6773f46f892a3780456b47de7",
      "max": 500,
      "min": 10,
      "orientation": "horizontal",
      "readout": true,
      "readout_format": "d",
      "step": 10,
      "style": "IPY_MODEL_24e4f2f85aa14c3e82a78db6695305f3",
      "value": 240
     }
    },
    "4571465491ae4076b94534c7d430967d": {
     "model_module": "@jupyter-widgets/base",
     "model_name": "LayoutModel",
     "state": {
      "_model_module": "@jupyter-widgets/base",
      "_model_module_version": "1.2.0",
      "_model_name": "LayoutModel",
      "_view_count": null,
      "_view_module": "@jupyter-widgets/base",
      "_view_module_version": "1.2.0",
      "_view_name": "LayoutView",
      "align_content": null,
      "align_items": null,
      "align_self": null,
      "border": null,
      "bottom": null,
      "display": null,
      "flex": null,
      "flex_flow": null,
      "grid_area": null,
      "grid_auto_columns": null,
      "grid_auto_flow": null,
      "grid_auto_rows": null,
      "grid_column": null,
      "grid_gap": null,
      "grid_row": null,
      "grid_template_areas": null,
      "grid_template_columns": null,
      "grid_template_rows": null,
      "height": null,
      "justify_content": null,
      "justify_items": null,
      "left": null,
      "margin": null,
      "max_height": null,
      "max_width": null,
      "min_height": null,
      "min_width": null,
      "object_fit": null,
      "object_position": null,
      "order": null,
      "overflow": null,
      "overflow_x": null,
      "overflow_y": null,
      "padding": null,
      "right": null,
      "top": null,
      "visibility": null,
      "width": null
     }
    },
    "5483259d3a39482a8b53df6847b044a2": {
     "model_module": "@jupyter-widgets/base",
     "model_name": "LayoutModel",
     "state": {
      "_model_module": "@jupyter-widgets/base",
      "_model_module_version": "1.2.0",
      "_model_name": "LayoutModel",
      "_view_count": null,
      "_view_module": "@jupyter-widgets/base",
      "_view_module_version": "1.2.0",
      "_view_name": "LayoutView",
      "align_content": null,
      "align_items": null,
      "align_self": null,
      "border": null,
      "bottom": null,
      "display": null,
      "flex": null,
      "flex_flow": null,
      "grid_area": null,
      "grid_auto_columns": null,
      "grid_auto_flow": null,
      "grid_auto_rows": null,
      "grid_column": null,
      "grid_gap": null,
      "grid_row": null,
      "grid_template_areas": null,
      "grid_template_columns": null,
      "grid_template_rows": null,
      "height": null,
      "justify_content": null,
      "justify_items": null,
      "left": null,
      "margin": null,
      "max_height": null,
      "max_width": null,
      "min_height": null,
      "min_width": null,
      "object_fit": null,
      "object_position": null,
      "order": null,
      "overflow": null,
      "overflow_x": null,
      "overflow_y": null,
      "padding": null,
      "right": null,
      "top": null,
      "visibility": null,
      "width": null
     }
    },
    "571dbc8e974e451080756f9e2ca33e11": {
     "model_module": "@jupyter-widgets/controls",
     "model_name": "DescriptionStyleModel",
     "state": {
      "_model_module": "@jupyter-widgets/controls",
      "_model_module_version": "1.5.0",
      "_model_name": "DescriptionStyleModel",
      "_view_count": null,
      "_view_module": "@jupyter-widgets/base",
      "_view_module_version": "1.2.0",
      "_view_name": "StyleView",
      "description_width": ""
     }
    },
    "577081b99ad64694add9facc6c48f02d": {
     "model_module": "@jupyter-widgets/controls",
     "model_name": "SliderStyleModel",
     "state": {
      "_model_module": "@jupyter-widgets/controls",
      "_model_module_version": "1.5.0",
      "_model_name": "SliderStyleModel",
      "_view_count": null,
      "_view_module": "@jupyter-widgets/base",
      "_view_module_version": "1.2.0",
      "_view_name": "StyleView",
      "description_width": "",
      "handle_color": null
     }
    },
    "58e070b021fd457cb1a769b4dab1dc07": {
     "model_module": "@jupyter-widgets/controls",
     "model_name": "BoundedIntTextModel",
     "state": {
      "_dom_classes": [],
      "_model_module": "@jupyter-widgets/controls",
      "_model_module_version": "1.5.0",
      "_model_name": "BoundedIntTextModel",
      "_view_count": null,
      "_view_module": "@jupyter-widgets/controls",
      "_view_module_version": "1.5.0",
      "_view_name": "IntTextView",
      "continuous_update": false,
      "description": "Maximum point load (kip):",
      "description_tooltip": null,
      "disabled": false,
      "layout": "IPY_MODEL_0284f4d98c0842d4b87f4f478132a19a",
      "max": 1000,
      "min": 1,
      "step": 1,
      "style": "IPY_MODEL_d00c71c54edc4a81b3328bbe6b06c164",
      "value": 200
     }
    },
    "600ab0af280b4a1a84c9d0ad714165d1": {
     "model_module": "@jupyter-widgets/controls",
     "model_name": "RadioButtonsModel",
     "state": {
      "_dom_classes": [],
      "_model_module": "@jupyter-widgets/controls",
      "_model_module_version": "1.5.0",
      "_model_name": "RadioButtonsModel",
      "_options_labels": [
       "Pinned",
       "Fixed"
      ],
      "_view_count": null,
      "_view_module": "@jupyter-widgets/controls",
      "_view_module_version": "1.5.0",
      "_view_name": "RadioButtonsView",
      "description": "Right support restraint",
      "description_tooltip": null,
      "disabled": false,
      "index": 0,
      "layout": "IPY_MODEL_81e62eb4ffa0405fb6983628ebbdd427",
      "style": "IPY_MODEL_1bc68b845e0645eb80738862bc458619"
     }
    },
    "63febefc803c43fc9b6c7f95773c8611": {
     "model_module": "@jupyter-widgets/controls",
     "model_name": "IntSliderModel",
     "state": {
      "_dom_classes": [],
      "_model_module": "@jupyter-widgets/controls",
      "_model_module_version": "1.5.0",
      "_model_name": "IntSliderModel",
      "_view_count": null,
      "_view_module": "@jupyter-widgets/controls",
      "_view_module_version": "1.5.0",
      "_view_name": "IntSliderView",
      "continuous_update": true,
      "description": "Location of point load (in)",
      "description_tooltip": null,
      "disabled": false,
      "layout": "IPY_MODEL_229ccc8038124521a009e09d93b11df8",
      "max": 240,
      "min": 0,
      "orientation": "horizontal",
      "readout": true,
      "readout_format": "d",
      "step": 1,
      "style": "IPY_MODEL_d0fab894acfe4de9b334af341295e66e",
      "value": 120
     }
    },
    "773e019b69a64b1da758d579add42953": {
     "model_module": "@jupyter-widgets/controls",
     "model_name": "IntSliderModel",
     "state": {
      "_dom_classes": [],
      "_model_module": "@jupyter-widgets/controls",
      "_model_module_version": "1.5.0",
      "_model_name": "IntSliderModel",
      "_view_count": null,
      "_view_module": "@jupyter-widgets/controls",
      "_view_module_version": "1.5.0",
      "_view_name": "IntSliderView",
      "continuous_update": true,
      "description": "Number of elements (-)",
      "description_tooltip": null,
      "disabled": false,
      "layout": "IPY_MODEL_9aa3347ad9ab45a6b04ad19bfd219be3",
      "max": 1000,
      "min": 10,
      "orientation": "horizontal",
      "readout": true,
      "readout_format": "d",
      "step": 10,
      "style": "IPY_MODEL_577081b99ad64694add9facc6c48f02d",
      "value": 120
     }
    },
    "7f910fc40bef474092b6ff353b1f1c55": {
     "model_module": "@jupyter-widgets/controls",
     "model_name": "DescriptionStyleModel",
     "state": {
      "_model_module": "@jupyter-widgets/controls",
      "_model_module_version": "1.5.0",
      "_model_name": "DescriptionStyleModel",
      "_view_count": null,
      "_view_module": "@jupyter-widgets/base",
      "_view_module_version": "1.2.0",
      "_view_name": "StyleView",
      "description_width": ""
     }
    },
    "81e62eb4ffa0405fb6983628ebbdd427": {
     "model_module": "@jupyter-widgets/base",
     "model_name": "LayoutModel",
     "state": {
      "_model_module": "@jupyter-widgets/base",
      "_model_module_version": "1.2.0",
      "_model_name": "LayoutModel",
      "_view_count": null,
      "_view_module": "@jupyter-widgets/base",
      "_view_module_version": "1.2.0",
      "_view_name": "LayoutView",
      "align_content": null,
      "align_items": null,
      "align_self": null,
      "border": null,
      "bottom": null,
      "display": null,
      "flex": null,
      "flex_flow": null,
      "grid_area": null,
      "grid_auto_columns": null,
      "grid_auto_flow": null,
      "grid_auto_rows": null,
      "grid_column": null,
      "grid_gap": null,
      "grid_row": null,
      "grid_template_areas": null,
      "grid_template_columns": null,
      "grid_template_rows": null,
      "height": null,
      "justify_content": null,
      "justify_items": null,
      "left": null,
      "margin": null,
      "max_height": null,
      "max_width": null,
      "min_height": null,
      "min_width": null,
      "object_fit": null,
      "object_position": null,
      "order": null,
      "overflow": null,
      "overflow_x": null,
      "overflow_y": null,
      "padding": null,
      "right": null,
      "top": null,
      "visibility": null,
      "width": null
     }
    },
    "8c28e66404c44865be98206749058e17": {
     "model_module": "@jupyter-widgets/controls",
     "model_name": "BoundedIntTextModel",
     "state": {
      "_dom_classes": [],
      "_model_module": "@jupyter-widgets/controls",
      "_model_module_version": "1.5.0",
      "_model_name": "BoundedIntTextModel",
      "_view_count": null,
      "_view_module": "@jupyter-widgets/controls",
      "_view_module_version": "1.5.0",
      "_view_name": "IntTextView",
      "continuous_update": false,
      "description": "Modulus of elasticity (ksi):",
      "description_tooltip": null,
      "disabled": false,
      "layout": "IPY_MODEL_5483259d3a39482a8b53df6847b044a2",
      "max": 10000,
      "min": 1000,
      "step": 1,
      "style": "IPY_MODEL_571dbc8e974e451080756f9e2ca33e11",
      "value": 4000
     }
    },
    "90e2fe3274e04225ba1a6c15ea7cd54d": {
     "model_module": "@jupyter-widgets/base",
     "model_name": "LayoutModel",
     "state": {
      "_model_module": "@jupyter-widgets/base",
      "_model_module_version": "1.2.0",
      "_model_name": "LayoutModel",
      "_view_count": null,
      "_view_module": "@jupyter-widgets/base",
      "_view_module_version": "1.2.0",
      "_view_name": "LayoutView",
      "align_content": null,
      "align_items": null,
      "align_self": null,
      "border": null,
      "bottom": null,
      "display": null,
      "flex": null,
      "flex_flow": null,
      "grid_area": null,
      "grid_auto_columns": null,
      "grid_auto_flow": null,
      "grid_auto_rows": null,
      "grid_column": null,
      "grid_gap": null,
      "grid_row": null,
      "grid_template_areas": null,
      "grid_template_columns": null,
      "grid_template_rows": null,
      "height": null,
      "justify_content": null,
      "justify_items": null,
      "left": null,
      "margin": null,
      "max_height": null,
      "max_width": null,
      "min_height": null,
      "min_width": null,
      "object_fit": null,
      "object_position": null,
      "order": null,
      "overflow": null,
      "overflow_x": null,
      "overflow_y": null,
      "padding": null,
      "right": null,
      "top": null,
      "visibility": null,
      "width": null
     }
    },
    "9aa3347ad9ab45a6b04ad19bfd219be3": {
     "model_module": "@jupyter-widgets/base",
     "model_name": "LayoutModel",
     "state": {
      "_model_module": "@jupyter-widgets/base",
      "_model_module_version": "1.2.0",
      "_model_name": "LayoutModel",
      "_view_count": null,
      "_view_module": "@jupyter-widgets/base",
      "_view_module_version": "1.2.0",
      "_view_name": "LayoutView",
      "align_content": null,
      "align_items": null,
      "align_self": null,
      "border": null,
      "bottom": null,
      "display": null,
      "flex": null,
      "flex_flow": null,
      "grid_area": null,
      "grid_auto_columns": null,
      "grid_auto_flow": null,
      "grid_auto_rows": null,
      "grid_column": null,
      "grid_gap": null,
      "grid_row": null,
      "grid_template_areas": null,
      "grid_template_columns": null,
      "grid_template_rows": null,
      "height": null,
      "justify_content": null,
      "justify_items": null,
      "left": null,
      "margin": null,
      "max_height": null,
      "max_width": null,
      "min_height": null,
      "min_width": null,
      "object_fit": null,
      "object_position": null,
      "order": null,
      "overflow": null,
      "overflow_x": null,
      "overflow_y": null,
      "padding": null,
      "right": null,
      "top": null,
      "visibility": null,
      "width": null
     }
    },
    "b517ae35b4ce4b26a57441895ba1c8f9": {
     "model_module": "@jupyter-widgets/controls",
     "model_name": "BoundedIntTextModel",
     "state": {
      "_dom_classes": [],
      "_model_module": "@jupyter-widgets/controls",
      "_model_module_version": "1.5.0",
      "_model_name": "BoundedIntTextModel",
      "_view_count": null,
      "_view_module": "@jupyter-widgets/controls",
      "_view_module_version": "1.5.0",
      "_view_name": "IntTextView",
      "continuous_update": false,
      "description": "Moment of Intertia:",
      "description_tooltip": null,
      "disabled": false,
      "layout": "IPY_MODEL_90e2fe3274e04225ba1a6c15ea7cd54d",
      "max": 10000,
      "min": 1000,
      "step": 1,
      "style": "IPY_MODEL_7f910fc40bef474092b6ff353b1f1c55",
      "value": 5000
     }
    },
    "d00c71c54edc4a81b3328bbe6b06c164": {
     "model_module": "@jupyter-widgets/controls",
     "model_name": "DescriptionStyleModel",
     "state": {
      "_model_module": "@jupyter-widgets/controls",
      "_model_module_version": "1.5.0",
      "_model_name": "DescriptionStyleModel",
      "_view_count": null,
      "_view_module": "@jupyter-widgets/base",
      "_view_module_version": "1.2.0",
      "_view_name": "StyleView",
      "description_width": ""
     }
    },
    "d0fab894acfe4de9b334af341295e66e": {
     "model_module": "@jupyter-widgets/controls",
     "model_name": "SliderStyleModel",
     "state": {
      "_model_module": "@jupyter-widgets/controls",
      "_model_module_version": "1.5.0",
      "_model_name": "SliderStyleModel",
      "_view_count": null,
      "_view_module": "@jupyter-widgets/base",
      "_view_module_version": "1.2.0",
      "_view_name": "StyleView",
      "description_width": "",
      "handle_color": null
     }
    },
    "e08c38a26dcb4269b36df83fa136af00": {
     "model_module": "@jupyter-widgets/controls",
     "model_name": "RadioButtonsModel",
     "state": {
      "_dom_classes": [],
      "_model_module": "@jupyter-widgets/controls",
      "_model_module_version": "1.5.0",
      "_model_name": "RadioButtonsModel",
      "_options_labels": [
       "Pinned",
       "Fixed"
      ],
      "_view_count": null,
      "_view_module": "@jupyter-widgets/controls",
      "_view_module_version": "1.5.0",
      "_view_name": "RadioButtonsView",
      "description": "Left support restraint",
      "description_tooltip": null,
      "disabled": false,
      "index": 1,
      "layout": "IPY_MODEL_4571465491ae4076b94534c7d430967d",
      "style": "IPY_MODEL_369f1b73443049f1a74aed88ca74fd54"
     }
    },
    "f20086f6773f46f892a3780456b47de7": {
     "model_module": "@jupyter-widgets/base",
     "model_name": "LayoutModel",
     "state": {
      "_model_module": "@jupyter-widgets/base",
      "_model_module_version": "1.2.0",
      "_model_name": "LayoutModel",
      "_view_count": null,
      "_view_module": "@jupyter-widgets/base",
      "_view_module_version": "1.2.0",
      "_view_name": "LayoutView",
      "align_content": null,
      "align_items": null,
      "align_self": null,
      "border": null,
      "bottom": null,
      "display": null,
      "flex": null,
      "flex_flow": null,
      "grid_area": null,
      "grid_auto_columns": null,
      "grid_auto_flow": null,
      "grid_auto_rows": null,
      "grid_column": null,
      "grid_gap": null,
      "grid_row": null,
      "grid_template_areas": null,
      "grid_template_columns": null,
      "grid_template_rows": null,
      "height": null,
      "justify_content": null,
      "justify_items": null,
      "left": null,
      "margin": null,
      "max_height": null,
      "max_width": null,
      "min_height": null,
      "min_width": null,
      "object_fit": null,
      "object_position": null,
      "order": null,
      "overflow": null,
      "overflow_x": null,
      "overflow_y": null,
      "padding": null,
      "right": null,
      "top": null,
      "visibility": null,
      "width": null
     }
    }
   }
  }
 },
 "nbformat": 4,
 "nbformat_minor": 4
}
